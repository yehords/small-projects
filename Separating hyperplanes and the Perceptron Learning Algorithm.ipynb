{
 "cells": [
  {
   "cell_type": "code",
   "execution_count": 14,
   "id": "fe44083c-b2d1-4370-a08c-53b19b8ec944",
   "metadata": {
    "id": "fe44083c-b2d1-4370-a08c-53b19b8ec944"
   },
   "outputs": [],
   "source": [
    "import torch\n",
    "from tqdm import tqdm\n",
    "from scipy.optimize import linprog\n",
    "from torchvision import datasets\n",
    "import torchvision.transforms as transforms\n",
    "from sklearn.model_selection import train_test_split\n",
    "from sklearn.metrics import accuracy_score, precision_score, recall_score, f1_score\n",
    "\n",
    "import numpy as np\n",
    "import matplotlib.pyplot as plt\n",
    "\n",
    "%matplotlib inline"
   ]
  },
  {
   "cell_type": "code",
   "execution_count": 15,
   "id": "689dbfa9-1ed2-4baa-b0f0-8c094fa9a972",
   "metadata": {
    "id": "689dbfa9-1ed2-4baa-b0f0-8c094fa9a972"
   },
   "outputs": [],
   "source": [
    "train_data = datasets.MNIST(root='data', train=True, download=True)"
   ]
  },
  {
   "cell_type": "code",
   "execution_count": 16,
   "id": "8cf9e98a-daff-4c94-9019-ace288e89bc9",
   "metadata": {
    "id": "8cf9e98a-daff-4c94-9019-ace288e89bc9"
   },
   "outputs": [],
   "source": [
    "def filter_data(train_data, digit_1, digit_2):\n",
    "    digits_cls = torch.tensor([digit_1, digit_2])\n",
    "    indices = torch.isin(train_data.targets, digits_cls)\n",
    "    train_data.data = train_data.data[indices]\n",
    "    train_data.targets = train_data.targets[indices]\n",
    "    train_data.targets = torch.where(train_data.targets == digit_1, -1, 1)\n",
    "    return train_data"
   ]
  },
  {
   "cell_type": "code",
   "execution_count": 17,
   "id": "dee2eaa6-498f-4174-875a-501548d56113",
   "metadata": {
    "id": "dee2eaa6-498f-4174-875a-501548d56113"
   },
   "outputs": [],
   "source": [
    "train_data = filter_data(train_data, 2, 7)"
   ]
  },
  {
   "cell_type": "code",
   "execution_count": 18,
   "id": "13cxSAQd5qLo",
   "metadata": {
    "id": "13cxSAQd5qLo"
   },
   "outputs": [],
   "source": [
    "from sklearn.model_selection import train_test_split\n",
    "\n",
    "def split_dataset(train_data):\n",
    "    X_train, X_test, y_train, y_test = train_test_split(\n",
    "        train_data.data, train_data.targets, stratify=train_data.targets, test_size=0.3\n",
    "    )\n",
    "    return X_train, X_test, y_train, y_test"
   ]
  },
  {
   "cell_type": "code",
   "execution_count": 19,
   "id": "4pT-osLT5qLo",
   "metadata": {
    "id": "4pT-osLT5qLo"
   },
   "outputs": [],
   "source": [
    "X_train, X_test, y_train, y_test = split_dataset(train_data)"
   ]
  },
  {
   "cell_type": "code",
   "execution_count": 20,
   "id": "KV4wznVX5qLo",
   "metadata": {
    "colab": {
     "base_uri": "https://localhost:8080/"
    },
    "id": "KV4wznVX5qLo",
    "outputId": "2ec93ca1-af38-414f-fc25-349053e2c1b0"
   },
   "outputs": [
    {
     "name": "stdout",
     "output_type": "stream",
     "text": [
      "Number of samples in train: 8556 \n",
      "Classes number in train: 4385, 4171 \n",
      "Number of samples in test: 3667 \n",
      "Classes number in test: 1880, 1787\n"
     ]
    }
   ],
   "source": [
    "print(f\"Number of samples in train: {len(X_train)} \\n\\\n",
    "Classes number in train: {torch.sum(y_train == 1)}, {torch.sum(y_train == -1)} \\n\\\n",
    "Number of samples in test: {len(X_test)} \\n\\\n",
    "Classes number in test: {torch.sum(y_test == 1)}, {torch.sum(y_test == -1)}\")"
   ]
  },
  {
   "cell_type": "code",
   "execution_count": 21,
   "id": "6jc6fJqX6Gxe",
   "metadata": {
    "colab": {
     "base_uri": "https://localhost:8080/",
     "height": 322
    },
    "id": "6jc6fJqX6Gxe",
    "outputId": "ebe6e978-ea59-41fe-bc61-2c52f565ef08"
   },
   "outputs": [
    {
     "data": {
      "image/png": "[encoded data removed]",
      "text/plain": [
       "<Figure size 1500x500 with 10 Axes>"
      ]
     },
     "metadata": {},
     "output_type": "display_data"
    }
   ],
   "source": [
    "fig = plt.figure(figsize=(15, 5))\n",
    "for idx in np.arange(10):\n",
    "    ax = fig.add_subplot(2, 5, idx+1, xticks=[], yticks=[])\n",
    "    ax.imshow(np.squeeze(X_train[idx].numpy()), cmap='gray')\n",
    "    ax.set_title(str(y_train[idx].item()))"
   ]
  },
  {
   "cell_type": "code",
   "execution_count": 22,
   "id": "2a71993e-91fe-45af-bb58-040bbfd0cc40",
   "metadata": {
    "id": "2a71993e-91fe-45af-bb58-040bbfd0cc40"
   },
   "outputs": [],
   "source": [
    "def prep_data(X_train):\n",
    "    X = X_train.reshape(X_train.shape[0], -1) / 255.0\n",
    "    X = np.hstack([X, np.ones((X.shape[0], 1))])\n",
    "    return X\n",
    "\n",
    "def initialize_weight_vector(size):\n",
    "    w = np.random.randn(size) * 0.01\n",
    "    return w\n",
    "\n",
    "def misclassified(X, y, W):\n",
    "    predictions = np.dot(X, W)\n",
    "    misclassified_indices = np.where(np.sign(predictions) != y)[0]\n",
    "    return misclassified_indices\n",
    "\n",
    "X_train_flat_aug = prep_data(X_train)\n",
    "W = initialize_weight_vector(X_train_flat_aug.shape[1])\n",
    "misclassified_indices = misclassified(X_train_flat_aug, y_train, W)"
   ]
  },
  {
   "cell_type": "code",
   "execution_count": 23,
   "id": "ac792433-7ba8-483a-929f-c10fe0353b86",
   "metadata": {
    "colab": {
     "base_uri": "https://localhost:8080/"
    },
    "id": "ac792433-7ba8-483a-929f-c10fe0353b86",
    "outputId": "e0e5afe8-845a-4fb1-844e-f456798916a5",
    "tags": []
   },
   "outputs": [],
   "source": [
    "def train_perceptron(X, y, iterations=1000, learning_rate=1.0):\n",
    "    if not isinstance(y, np.ndarray):\n",
    "        y = np.array(y)\n",
    "    W = np.random.rand(X.shape[1]) * 0.01  \n",
    "\n",
    "    for i in range(iterations):\n",
    "        misclass_indices = misclassified(X, y, W)\n",
    "        if len(misclass_indices) == 0:\n",
    "            print(f\"Found separating hyperplane on step {i}!\")\n",
    "            break\n",
    "        \n",
    "        random_index = np.random.choice(misclass_indices)\n",
    "        W += learning_rate * y[random_index] * X[random_index]\n",
    "\n",
    "    return W\n",
    "\n",
    "W = train_perceptron(X_train_flat_aug, y_train)\n"
   ]
  },
  {
   "cell_type": "code",
   "execution_count": 24,
   "id": "ea11a6c7-e4a3-439d-a836-19455f3d643a",
   "metadata": {
    "id": "ea11a6c7-e4a3-439d-a836-19455f3d643a"
   },
   "outputs": [
    {
     "name": "stdout",
     "output_type": "stream",
     "text": [
      "{'accuracy': 0.9833651486228525, 'precision': 0.9774278215223097, 'recall': 0.9904255319148936, 'f1_score': 0.9838837516512549}\n"
     ]
    }
   ],
   "source": [
    "def evaluate_classifier(X, y, W):\n",
    "    predictions = np.sign(np.dot(X, W))\n",
    "    accuracy = accuracy_score(y, predictions)\n",
    "    precision = precision_score(y, predictions)\n",
    "    recall = recall_score(y, predictions)\n",
    "    f1 = f1_score(y, predictions)\n",
    "\n",
    "    return {\n",
    "        'accuracy': accuracy,\n",
    "        'precision': precision,\n",
    "        'recall': recall,\n",
    "        'f1_score': f1\n",
    "    }\n",
    "\n",
    "X_test_flat_aug = prep_data(X_test)\n",
    "\n",
    "performance_metrics = evaluate_classifier(X_test_flat_aug, y_test, W)\n",
    "print(performance_metrics)\n"
   ]
  }
 ],
 "metadata": {
  "colab": {
   "provenance": [],
   "toc_visible": true
  },
  "kernelspec": {
   "display_name": "Python 3 (ipykernel)",
   "language": "python",
   "name": "python3"
  },
  "language_info": {
   "codemirror_mode": {
    "name": "ipython",
    "version": 3
   },
   "file_extension": ".py",
   "mimetype": "text/x-python",
   "name": "python",
   "nbconvert_exporter": "python",
   "pygments_lexer": "ipython3",
   "version": "3.10.13"
  }
 },
 "nbformat": 4,
 "nbformat_minor": 5
}
